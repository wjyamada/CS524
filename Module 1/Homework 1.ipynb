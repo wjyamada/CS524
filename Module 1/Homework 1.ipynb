{
 "cells": [
  {
   "cell_type": "markdown",
   "metadata": {},
   "source": [
    "# Homework \\#1 (4 points)\n",
    "Due June 24 @ 11:59pm\n",
    "\n",
    "## Submission requirements\n",
    "Upload a **single PDF file** of your IJulia notebook for this entire assigment. Clearly denote which question each section of your PDF corresponds to."
   ]
  },
  {
   "cell_type": "markdown",
   "metadata": {},
   "source": [
    "## Problem 1 - Getting Started with Julia/JuMP (1 point)\n",
    "\n",
    "Model the following problem in JuMP:\n",
    "\n",
    "$\\begin{align*}\n",
    "\\min & \\ 0.5x_1 - 7x_2 + (1/3)x_3\\\\\n",
    "\\text{s.t.} &\\  x_4  = 5\\\\\n",
    "& x_1 + x_2 - 2x_3 + 0.5x_4 \\geq 10\\\\\n",
    "& -x_1 + 3x_2 \\leq -2\\\\\n",
    "& x_1, x_3 \\geq 0, x_2  \\leq 0\n",
    "\\end{align*}$\n",
    "\n",
    "Solve this problem using Clp, ECOS, and SCS solvers.  Compare the answers found by each solver by answering the following:  \n",
    "* Which solver is most accurate?  \n",
    "* Which is fastest (use the @time macro)? (Note: you should run each solver several times to get an average time.)\n",
    "    * Can you speculate as to why? \n",
    "* If there is no clear difference between the solvers, can you think of some factors that might contribute to solver speed differences? \n"
   ]
  },
  {
   "cell_type": "markdown",
   "metadata": {},
   "source": [
    "## Problem 2 - DnD (Decision Variables and Drawing) (1 point)\n",
    "\n",
    "Prof. Smith is rolling up a new character for her optimization-based role-playing campaign and she wants to use linear programming to help make some important decisions. She is playing a 4th-level Dragonborn and is trying to decide how many pounds of iron and steel she wants to use to build a sword. Every pound of steel adds a \"slowness\" factor of 1, whereas every pound of iron adds a \"slowness\" factor of -3 (reduces slowness by 3). She would like to combine iron and steel to meet the requirements given below while minimizing the total \"slowness\" of her character. \n",
    "\n",
    "The table below summarizes several characteristics of each pound of iron and steel. \n",
    "\n",
    "|Material | Damage (per pound) |Protection (per pound)| Surface area/pound|\n",
    "|--------:|---------------:|---------------:|---------:|\n",
    "|Iron|-1 points|2 points|1 $m^2$|\n",
    "|Steel|1 points|1 point|2 $m^2$|\n",
    "\n",
    "Prof. Smith wants to ensure that her total damage is at least -2 points and her total protection is at least 6 points. Furthermore, her character can carry a sword with a maximum surface area of 8 $m^2$.\n",
    "\n",
    "(a)  Formulate a linear program to help Prof. Smith figure out how many pounds of each type of material (iron and steel) she should purchase to minimize her character's \"slowness.\" State the math model, then code and solve the model using Julia.\n",
    "\n",
    "(b)  Code the same model once again, this time separating the parameters from the solution as we did in class (see Top Brass examples).  Confirm that you obtain the same solution as in part (a).  \n",
    "\n",
    "(c)  Solve  the  problem  graphically  by  plotting  the  feasible  set  and  at least two isoprofit lines for  the  objective function.  Confirm that you obtain the same solution as in the previous parts.\n"
   ]
  },
  {
   "cell_type": "markdown",
   "metadata": {},
   "source": [
    "## Problem 3 - Standard Form (1 point)\n",
    "\n",
    "Consider the following LP:\n",
    "\n",
    "$\\begin{align*}\n",
    "\\min & \\ (1/2)x_1 - 7x_2 + (1/3)x_3\\\\\n",
    "\\text{s.t.} &\\  x_4  = 5\\\\\n",
    "& x_1 + x_2 - 2x_3 + 0.5x_4 \\geq 10\\\\\n",
    "& -x_1 + 3x_2 \\leq -2\\\\\n",
    "& x_1, x_3 \\geq 0, x_2  \\leq 0\n",
    "\\end{align*}$\n",
    "\n",
    "\n",
    "(a) Convert the problem to standard form.\n",
    "\n",
    "(b) What are $A$, $b$, $c$,and $x$?  Be sure to explain how the decision variables of your transformed LP relate to those of the original LP. \n",
    "\n",
    "(c) Solve the standard-form LP in Julia and report the objective value and the value of each decision variable in an optimal solution to the original LP. "
   ]
  },
  {
   "cell_type": "markdown",
   "metadata": {},
   "source": [
    "## Problem 4 - This problem is b-ORE-ing (1 point)\n",
    "\n",
    "\n",
    "A mining company creatively named \"MineCo\" is trying to determine their daily mining plan. There are forty different locations within the mine where ore can be extracted, and at each of the forty locations the ore has slightly different percentages of 7 \"quality attributes.\" MineCo has to monitor each of these 7 attributes of the ore they sell. Assume all ore that is extracted is taken to a processing center where it is perfectly blended before it is sent to the buyers, and quality is measured after the ore is blended. MineCo can extract up to 1000 total tons today.\n",
    "\n",
    "The ore extracted from each site also has differing total quality, which means each location can be mined to produce different value (in \\$) per ton extracted.\n",
    "\n",
    "The full data on each mining location is provided in \"mineco.csv\" on Canvas.The data has the following structure, where each row shows a different mining site and each column shows the relevant ore characteristics. You can use the code snippet provided below to read the .csv file and load it into Julia, or you can read/load the data in any way you choose.\n",
    "\n",
    "\n",
    "|Site | Value/ton (\\$) | % Gold |% Carbon| % Iron|$\\dotsm$ |\n",
    "|--------:|---------------:|---------------:|---------:|---------:|---------:|\n",
    "| Minimum % | |3 |2 |4| $\\dotsm$|\n",
    "| Maximum % | |11 |9 |15| $\\dotsm$|\n",
    "|1| 2349| 6| 16|16 |  $\\dotsm$|\n",
    "|2| 2397|10 |12 |1 | $\\dotsm$ |\n",
    "|$\\vdots$|$\\vdots$ |$\\vdots$ |$\\vdots$ |$\\vdots$ |$\\ddots$ |\n",
    "\n",
    "\n",
    "\n",
    "(a) Formulate a __linear__ program that MineCo can use to determine \n",
    "how many tons of ore to extract from each site today in order to maximize their total value. Give a general form (no numbers) of the math model.\n",
    "\n",
    "(b) Implement and solve this instance of the model in Julia/JuMP.  Display the optimal objective value and the optimal mining plan (in tons extracted from each site). \n"
   ]
  },
  {
   "cell_type": "code",
   "execution_count": 2,
   "metadata": {},
   "outputs": [],
   "source": [
    "#You might need to run \"Pkg.add(...)\" before using these packages\n",
    "using DataFrames, CSV, NamedArrays\n",
    "\n",
    "#Load the data file\n",
    "raw = CSV.read(\"mineco.csv\");\n",
    "\n",
    "# turn DataFrame into an array\n",
    "mine_array = convert(Array,raw);\n",
    "\n",
    "# the names of the DataFrame (header) are the attributes\n",
    "attributes = names(raw[3:end]);\n",
    "\n",
    "# create a list of mining sites from the mine array\n",
    "sites = mine_array[3:end,1];\n",
    "\n",
    "# create a dictionary of the value of each mining site's ore (per ton)\n",
    "ore_val = Dict(zip(sites,mine_array[3:end,2]));\n",
    "\n",
    "# create a dictionary of the value of min and max % of each attribute\n",
    "min_percent = Dict(zip(attributes,mine_array[1,3:end]));\n",
    "max_percent = Dict(zip(attributes,mine_array[2,3:end]));\n",
    "\n",
    "# create a NamedArray that specifies the % of each attribute at each site\n",
    "using NamedArrays\n",
    "mine_attribute_matrix = mine_array[3:end,3:end]\n",
    "\n",
    "# rows are sites, columns are attributes\n",
    "mine_attribute_array = NamedArray(mine_attribute_matrix, (sites, attributes), (\"sites\",\"attributes\"))\n",
    "\n",
    "# note this syntax uses some deprecated commands, so you'll get a warning message when you run it\n",
    "# the code should still work (you can ignore the warning)"
   ]
  }
 ],
 "metadata": {
  "kernelspec": {
   "display_name": "Julia 1.3.1",
   "language": "julia",
   "name": "julia-1.3"
  },
  "language_info": {
   "file_extension": ".jl",
   "mimetype": "application/julia",
   "name": "julia",
   "version": "1.3.1"
  }
 },
 "nbformat": 4,
 "nbformat_minor": 4
}
