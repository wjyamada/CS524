{
 "cells": [
  {
   "cell_type": "markdown",
   "metadata": {},
   "source": [
    "# Practice Problems based on Week 1 content"
   ]
  },
  {
   "cell_type": "markdown",
   "metadata": {},
   "source": [
    "## Getting started + Julia basics\n",
    "\n",
    "- Install Julia. Add the following packages: JuMP, IJulia, Clp, SCS, ECOS, NamedArrays.\n",
    "- Create, name, and run an IJulia notebook. Save it as a PDF."
   ]
  },
  {
   "cell_type": "code",
   "execution_count": null,
   "metadata": {
    "scrolled": true
   },
   "outputs": [],
   "source": [
    "### Uncomment if the packages have not been added\n",
    "\n",
    "# using Pkg\n",
    "\n",
    "# Pkg.add(\"JuMP\")\n",
    "# Pkg.add(\"Clp\")\n",
    "# Pkg.add(\"SCS\")\n",
    "# Pkg.add(\"ECOS\")\n",
    "# Pkg.add(\"NamedArrays\")\n",
    "# Pkg.add(\"Plots\")"
   ]
  },
  {
   "cell_type": "markdown",
   "metadata": {},
   "source": [
    "## LP Basics\n",
    "\n",
    "- (**Q1**) Farmer Jane owns 45 acres of land. She is going to plant each with wheat or corn. Each acre planted with wheat yields \\\\$200 profit; each with corn yields \\\\$300 profit. The labor and fertilizer used for each acre are given in the table below. One hundred workers and 120 tons of fertilizer are available. How should Jane plant her crops to maximize profit?\n",
    "\n",
    "    - Write down the full mathematical model.\n",
    "    - Solve the problem using the graphical method.\n",
    "    - Implement and solve the problem in Julia.\n",
    "    \n",
    "||Wheat|Corn|\n",
    "|-----|-----|-----|\n",
    "|Labor|3 Workers|2 Workers|\n",
    "|Fertilizer|2 tons| 4 tons|"
   ]
  },
  {
   "cell_type": "markdown",
   "metadata": {},
   "source": [
    "**<font color='brown'>Answer:</font>**\n",
    "\n",
    "- **Mathematical Model**\n",
    "\n",
    "    - Decision variables:\n",
    "    \n",
    "        - Wheat acreage $X_w$\n",
    "        - Corn acreage $X_c$\n",
    "\n",
    "    - Objective function:\n",
    "    \n",
    "        - $\\max 200 \\cdot X_w + 300 \\cdot X_c$\n",
    "\n",
    "    - Constraints:\n",
    "    \n",
    "        - C1: $X_w + X_c \\leq 45$\n",
    "        - C2: $3 \\cdot X_w + 2\\cdot X_c \\leq 100$\n",
    "        - C3: $2 \\cdot X_w + 4\\cdot X_c \\leq 120$\n",
    "        - C4: $X_w \\geq 0$\n",
    "        - C5: $X_c \\geq 0$"
   ]
  },
  {
   "cell_type": "markdown",
   "metadata": {},
   "source": [
    "- **Graphical method**"
   ]
  },
  {
   "cell_type": "code",
   "execution_count": null,
   "metadata": {},
   "outputs": [],
   "source": [
    "using Plots\n",
    "\n",
    "X_c = range(0,45,step=0.1)\n",
    "\n",
    "labels = [\"C1\" \"C2\" \"C3\" \"C4\"]\n",
    "\n",
    "c1 = 45 .- X_c\n",
    "c2 = (100 .- (2*X_c))./3\n",
    "c3 = (120 .- (4*X_c))./2\n",
    "c4 = 0*X_c\n",
    "\n",
    "#plot(Shape([(0,0),(0,100/3),(20,20),(30,0)]), line = 0, leg = false, fillcolor = plot_color(:yellow, 0.3))\n",
    "plot(X_c,[c1,c2,c3,c4],label=labels,line=4)\n",
    "plot!([0], seriestype=\"vline\",label=\"C5\",line=4)\n",
    "plot!(xlabel=\"Corn\",ylabel=\"Wheat\",xlims=(-0.5,45),ylims=(-0.5,45))"
   ]
  },
  {
   "cell_type": "code",
   "execution_count": null,
   "metadata": {},
   "outputs": [],
   "source": [
    "plot!(Shape([(0,0),(0,100/3),(20,20),(30,0)]), line = 0, leg = false, fillcolor = plot_color(:yellow, 0.1))\n",
    "plot!(X_c,(100 .- (3*X_c))./2,line = 4,linestyle=:dot)\n",
    "plot!([20],[20],marker=:d,markersize = 10,color=:red)\n",
    "annotate!(30,20,\"max = \\$ 10.000,00\")"
   ]
  },
  {
   "cell_type": "markdown",
   "metadata": {},
   "source": [
    "- **Using Julia**"
   ]
  },
  {
   "cell_type": "code",
   "execution_count": null,
   "metadata": {},
   "outputs": [],
   "source": [
    "using JuMP, Clp\n",
    "\n",
    "m = Model(Clp.Optimizer)\n",
    "\n",
    "@variable(m, Xw >=0)\n",
    "@variable(m, Xc >=0)\n",
    "\n",
    "@objective(m, Max, 200Xw+300Xc)\n",
    "\n",
    "@constraint(m,c1,Xw+Xc<=45)\n",
    "@constraint(m,c2,3Xw+2Xc<=100)\n",
    "@constraint(m,c3,2Xw+4Xc<=120)\n",
    "\n",
    "print(m)\n",
    "\n",
    "JuMP.optimize!(m)\n",
    "\n",
    "obj_value = JuMP.objective_value(m)\n",
    "Xw = JuMP.value(Xw)\n",
    "Xc = JuMP.value(Xc)"
   ]
  },
  {
   "cell_type": "code",
   "execution_count": null,
   "metadata": {},
   "outputs": [],
   "source": [
    "println(\"Optimal Solutions:\")\n",
    "println(\"Xw = \", Xw)\n",
    "println(\"Xx = \", Xc)\n",
    "println(\"Y = \",obj_value)"
   ]
  },
  {
   "cell_type": "markdown",
   "metadata": {},
   "source": [
    "- (**Q2**) For each of the three Top Brass implementations (Top Brass, Top Brass Modular, Top Brass Compact), re-implement the model to add a new trophy type: karate trophies. Karate trophies require 3 board feet of wood, 1 plaque, and 1 brass karate figure on top. Karate trophies are sold for \\\\$10 each. There are 750 brass karate figures available.  omment on how easy or hard it is to add a new trophy type in each case."
   ]
  },
  {
   "cell_type": "code",
   "execution_count": 10,
   "metadata": {},
   "outputs": [
    {
     "name": "stdout",
     "output_type": "stream",
     "text": [
      "Objective: 17700.0\n",
      "f: 650.0\n",
      "s: 1100.0\n",
      "k: 0.0\n",
      "Coin0506I Presolve 2 (0) rows, 3 (0) columns and 6 (0) elements\n",
      "Clp0006I 0  Obj 0 Dual inf 31 (3)\n",
      "Clp0006I 2  Obj 17700\n",
      "Clp0000I Optimal - objective value 17700\n",
      "Clp0032I Optimal objective 17700 - 2 iterations time 0.002\n"
     ]
    }
   ],
   "source": [
    "using JuMP, Clp\n",
    "\n",
    "m2 = Model(Clp.Optimizer)\n",
    "\n",
    "@variable(m2, 0<= f <=1000)\n",
    "@variable(m2, 0<= s <=1500)\n",
    "@variable(m2, 0<= k <=750)\n",
    "\n",
    "@objective(m2, Max, 12f + 9s + 10k)\n",
    "\n",
    "@constraint(m2,c1, 4f + 2s +3k <= 4800)\n",
    "@constraint(m2,c2, f + s + k <= 1750)\n",
    "\n",
    "JuMP.optimize!(m2)\n",
    "\n",
    "println(\"Objective: \",JuMP.objective_value(m2))\n",
    "println(\"f: \",JuMP.value(f))\n",
    "println(\"s: \",JuMP.value(s))\n",
    "println(\"k: \",JuMP.value(k))"
   ]
  },
  {
   "cell_type": "markdown",
   "metadata": {},
   "source": [
    "- (**Q3**) A very famous optimization problem is the so-called “Stigler Diet Problem,” which was created in 1945 by American economist and Nobel laureate George Stigler. Stigler published a paper on his study of the optimal diet, which minimizes total annual cost while meeting the recommended daily allowance (RDA) of several nutrients. In his paper, Stigler created a table of 77 different foods (although if you look at the data, you’ll note that one of the foods is “Plate”...not sure about that one) and their nutrient content for 9 nutrients: calories, protein, calcium, iron, vitamin A, thiamine, riboflavin, niacin, and ascorbic acid. To make the calculations easier, Stigler normalized the data so that the nutrients shown are the content for \\\\$1-worth of the given food. \\\\$1 could buy you a lot more in 1945! You can find a sample of the first few rows and columns of the table below. Stigler published this paper before linear programming algorithms had been invented, but Stigler was a very intelligent man and used “trial and error, mathematical insight, and agility,” to arrive at a diet costing only \\\\$39.93 per year. Stigler stated there was no reason to believe he had found the cheapest diet, and other combinations could prove more cost-effective. \n",
    "\n",
    "    - Formulate Stigler’s diet problem as a linear program and solve it to find the actual optimal solution.  Stigler’s original data is provided as “stigler.csv” on Canvas. Use the code snippet posted on Canvas as “stigler.jl” to import the data into arrays that will be much easier to work with. How does your cheapest diet compare in annual cost to Stigler’s? For the purposes of this exercise, a year is 365.25 days.\n",
    "    \n",
    "    - Now suppose you wanted a diet consisting only of foods you like to eat. Modify the stigler.csv file by deleting any rows you want, leaving only your favorite foods as options for your diet. Solve the diet problem again and compare your total annual cost to the cost you got in the previous problem. What foods make up your optimal diet now?\n",
    "    \n",
    "Table from the diet problem:\n",
    "\n",
    "\n",
    "||kCalories|Protein (g)|Calcium (g)|Iron (mg)|$\\cdots$|\n",
    "|------|------|------|------|------|------|\n",
    "|Wheat Flour (Enriched)|44.7|1411|2|365|$\\cdots$|\n",
    "|Macaroni|11.6|418|0.7|54|$\\cdots$|\n",
    "|Wheat Ceral (Enriched)|11.8|377|14.4|175|$\\cdots$|\n",
    "|$\\vdots$|$\\vdots$|$\\vdots$|$\\vdots$|$\\vdots$|$\\ddots$|"
   ]
  },
  {
   "cell_type": "code",
   "execution_count": 11,
   "metadata": {},
   "outputs": [],
   "source": [
    "# using Pkg\n",
    "\n",
    "# Pkg.add(\"CSV\")\n",
    "# Pkg.add(\"DataFrames\")"
   ]
  },
  {
   "cell_type": "code",
   "execution_count": 12,
   "metadata": {},
   "outputs": [
    {
     "name": "stderr",
     "output_type": "stream",
     "text": [
      "┌ Info: Precompiling DataFrames [a93c6f00-e57d-5684-b7b6-d8193f3e46c0]\n",
      "└ @ Base loading.jl:1260\n",
      "┌ Info: Precompiling CSV [336ed68f-0bac-5ca0-87d4-7b16caf5d00b]\n",
      "└ @ Base loading.jl:1260\n",
      "┌ Info: Precompiling NamedArrays [86f7a689-2022-50b4-a561-43c23ac3c673]\n",
      "└ @ Base loading.jl:1260\n",
      "┌ Warning: `lastindex(df::AbstractDataFrame)` is deprecated, use `ncol(df)` instead.\n",
      "│   caller = top-level scope at In[12]:8\n",
      "└ @ Core In[12]:8\n",
      "┌ Warning: `getindex(df::DataFrame, col_inds::Union{AbstractVector, Regex, Not})` is deprecated, use `df[:, col_inds]` instead.\n",
      "│   caller = top-level scope at In[12]:8\n",
      "└ @ Core In[12]:8\n"
     ]
    },
    {
     "data": {
      "text/plain": [
       "77×9 Named Array{Any,2}\n",
       "      foods ╲ nutrients │     Calories (1000)  …   Ascorbic Acid (mg)\n",
       "────────────────────────┼────────────────────────────────────────────\n",
       "Wheat Flour (Enriched)  │                44.7  …                    0\n",
       "Macaroni                │                11.6                       0\n",
       "Wheat Cereal (Enriched) │                11.8                       0\n",
       "Corn Flakes             │                11.4                       0\n",
       "Corn Meal               │                36.0                       0\n",
       "Hominy Grits            │                28.6                       0\n",
       "Rice                    │                21.2                       0\n",
       "Rolled Oats             │                25.3                       0\n",
       "White Bread (Enriched)  │                15.0                       0\n",
       "Whole Wheat Bread       │                12.2                       0\n",
       "Rye Bread               │                12.4                       0\n",
       "Pound Cake              │                 8.0                       0\n",
       "⋮                                           ⋮  ⋱                    ⋮\n",
       "Raisins, Dried          │                13.5                     136\n",
       "Peas, Dried             │                20.0                       0\n",
       "Lima Beans, Dried       │                17.4                       0\n",
       "Navy Beans, Dried       │                26.9                       0\n",
       "Coffee                  │                 0.0                       0\n",
       "Tea                     │                 0.0                       0\n",
       "Cocoa                   │                 8.7                       0\n",
       "Chocolate               │                 8.0                       0\n",
       "Sugar                   │                34.9                       0\n",
       "Corn Syrup              │                14.7                       0\n",
       "Molasses                │                 9.0                       0\n",
       "Strawberry Preserves    │                 6.4  …                    0"
      ]
     },
     "execution_count": 12,
     "metadata": {},
     "output_type": "execute_result"
    }
   ],
   "source": [
    "using DataFrames, CSV, NamedArrays\n",
    "\n",
    "#Load the data file (ref: Boyd/263)\n",
    "raw = CSV.read(\"stigler.csv\");\n",
    "\n",
    "# turn DataFrame into an array\n",
    "diet_array = convert(Array,raw);\n",
    "\n",
    "# the names of the DataFrame (header) are the nutrients\n",
    "nutrients = names(raw[2:end]);\n",
    "\n",
    "# create a list of foods from the diet array\n",
    "foods = diet_array[2:end,1];# create a dictionary of the minimum daily requirements of each nutrient\n",
    "min_daily_req = Dict(zip(nutrients,diet_array[1,2:end]));\n",
    "\n",
    "# create a NamedArray that specifies how much of each nutrient each food provides\n",
    "using NamedArrays\n",
    "food_nutrient_matrix = diet_array[2:end,2:end]\n",
    "\n",
    "# rows are foods, columns are nutrients\n",
    "food_nutrient_array = NamedArray(food_nutrient_matrix, (foods, nutrients), (\"foods\",\"nutrients\"))"
   ]
  },
  {
   "cell_type": "code",
   "execution_count": null,
   "metadata": {},
   "outputs": [],
   "source": []
  }
 ],
 "metadata": {
  "kernelspec": {
   "display_name": "Julia 1.4.1",
   "language": "julia",
   "name": "julia-1.4"
  },
  "language_info": {
   "file_extension": ".jl",
   "mimetype": "application/julia",
   "name": "julia",
   "version": "1.4.1"
  }
 },
 "nbformat": 4,
 "nbformat_minor": 4
}
