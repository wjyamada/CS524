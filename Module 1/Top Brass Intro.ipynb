{
 "cells": [
  {
   "cell_type": "markdown",
   "metadata": {},
   "source": [
    "# Top Brass -  Example 5.1 in Rardin (1998)\n",
    "\n",
    "Top Brass Trophy Company makes large championship trophies for youth athletic leagues. At the moment, they are planning production for fall sports: football and soccer. Each football trophy has a wood base, an engraved plaque, a large brass football on top, and returns \\\\$12 in profit. Soccer trophies are similar (a brass ball, a wood base, and an engraved plaque) except that a brass soccer ball is on top, and the unit profit is only \\\\$9. Since the football has an asymmetric shape, its base requires 4 board feet of wood; the soccer base requires only 2 board feet. At the moment there are 1000 brass footballs in stock, 1500 soccer balls, 1750 plaques, and 4800 board feet of wood. What trophies should be produced from these supplies to maximize total profit assuming that all that are made can be sold?\n"
   ]
  },
  {
   "cell_type": "markdown",
   "metadata": {},
   "source": [
    "## The Top Brass Model"
   ]
  },
  {
   "cell_type": "code",
   "execution_count": 1,
   "metadata": {},
   "outputs": [],
   "source": [
    "# always specify which packages you're going to use\n",
    "using JuMP, Clp\n",
    "\n",
    "#create a new model object\n",
    "m = Model()\n",
    "\n",
    "# we need variables for football trophies and soccer trophies\n",
    "# format is (<model name>, <variable name>). we can optionally\n",
    "# include bounds on each variable.\n",
    "@variable(m, ft >= 0)\n",
    "@variable(m, st >= 0)\n",
    "\n",
    "# objective is to maximize profit\n",
    "# format is (<model name>, <Max or Min>, <algebraic function>)\n",
    "@objective(m, Max, 12*ft + 9*st)\n",
    "\n",
    "# constraint on the wood available\n",
    "# format is (<model name>, <constraint name>, <algebraic constraint>)\n",
    "@constraint(m, wood_con, 4ft + 2st <= 4800)\n",
    "\n",
    "#constraint on the plaques available\n",
    "@constraint(m, plaque_con, ft + st <= 1750)\n",
    "\n",
    "# constraints on brass footballs, soccerballs available\n",
    "@constraint(m, brass_football_con, ft <= 1000)\n",
    "@constraint(m, brass_soccerball_con, st <= 1500)\n",
    "; \n",
    "# like Matlab, a \";\" (semicolon) supresses output"
   ]
  },
  {
   "cell_type": "markdown",
   "metadata": {},
   "source": [
    "Now let's solve it and take a look at the values!"
   ]
  },
  {
   "cell_type": "code",
   "execution_count": 17,
   "metadata": {},
   "outputs": [
    {
     "name": "stdout",
     "output_type": "stream",
     "text": [
      "Time to solve this model using Clp: \n",
      "  0.199176 seconds (44.89 k allocations: 2.300 MiB)\n",
      "Build 650.0 football trophies.\n",
      "Build 1100.0 soccer trophies.\n",
      "Total profit will be $17700.0\n",
      "Coin0506I Presolve 2 (-2) rows, 2 (0) columns and 4 (-2) elements\n",
      "Clp0006I 0  Obj 25500 Primal inf 1300 (2)\n",
      "Clp0006I 2  Obj 17700\n",
      "Clp0000I Optimal - objective value 17700\n",
      "Coin0511I After Postsolve, objective 17700, infeasibilities - dual 0 (0), primal 0 (0)\n",
      "Clp0032I Optimal objective 17700 - 2 iterations time 0.012, Presolve 0.01\n"
     ]
    }
   ],
   "source": [
    "println(\"Time to solve this model using Clp: \")\n",
    "\n",
    "# specify the solver you want to use to solve Model m\n",
    "set_optimizer(m, Clp.Optimizer)\n",
    "\n",
    "# use the @time macro to measure the amount of time it takes to solve m\n",
    "@time(optimize!(m))\n",
    "\n",
    "println(\"Build \", value(ft), \" football trophies.\")\n",
    "println(\"Build \", value(st), \" soccer trophies.\")\n",
    "println(\"Total profit will be \\$\", objective_value(m))"
   ]
  },
  {
   "cell_type": "markdown",
   "metadata": {},
   "source": [
    "Let's see what happens with a solver that isn't built to solve this type of model!"
   ]
  },
  {
   "cell_type": "code",
   "execution_count": 15,
   "metadata": {},
   "outputs": [
    {
     "name": "stdout",
     "output_type": "stream",
     "text": [
      "Time to solve this model using SCS: \n",
      "  0.002625 seconds (2.51 k allocations: 164.453 KiB)\n",
      "Build 650.0000000395873 football trophies.\n",
      "Build 1099.9999999280665 soccer trophies.\n",
      "Total profit will be $17699.999999827647\n",
      "----------------------------------------------------------------------------\n",
      "\tSCS v2.1.1 - Splitting Conic Solver\n",
      "\t(c) Brendan O'Donoghue, Stanford University, 2012\n",
      "----------------------------------------------------------------------------\n",
      "Lin-sys: sparse-indirect, nnz in A = 6, CG tol ~ 1/iter^(2.00)\n",
      "eps = 1.00e-005, alpha = 1.50, max_iters = 5000, normalize = 1, scale = 1.00\n",
      "acceleration_lookback = 10, rho_x = 1.00e-003\n",
      "Variables n = 2, constraints m = 4\n",
      "Cones:\tlinear vars: 4\n",
      "Setup time: 5.88e-005s\n",
      "----------------------------------------------------------------------------\n",
      " Iter | pri res | dua res | rel gap | pri obj | dua obj | kap/tau | time (s)\n",
      "----------------------------------------------------------------------------\n",
      "     0|2.18e+000 2.13e+000 4.25e-003 -5.76e+004 -5.81e+004 6.44e-012 2.06e-005 \n",
      "    20|9.35e-012 3.99e-011 2.56e-012 -1.77e+004 -1.77e+004 2.54e-012 1.36e-004 \n",
      "----------------------------------------------------------------------------\n",
      "Status: Solved\n",
      "Timing: Solve time: 1.38e-004s\n",
      "\tLin-sys: avg # CG iterations: 1.48, avg solve time: 3.76e-007s\n",
      "\tCones: avg projection time: 5.24e-008s\n",
      "\tAcceleration: avg step time: 4.38e-006s\n",
      "----------------------------------------------------------------------------\n",
      "Error metrics:\n",
      "dist(s, K) = 1.2074e-013, dist(y, K*) = 0.0000e+000, s'y/|s||y| = -2.0147e-016\n",
      "primal res: |Ax + s - b|_2 / (1 + |b|_2) = 9.3508e-012\n",
      "dual res:   |A'y + c|_2 / (1 + |c|_2) = 3.9913e-011\n",
      "rel gap:    |c'x + b'y| / (1 + |c'x| + |b'y|) = 2.5606e-012\n",
      "----------------------------------------------------------------------------\n",
      "c'x = -17700.0000, -b'y = -17700.0000\n",
      "============================================================================\n"
     ]
    }
   ],
   "source": [
    "using SCS\n",
    "\n",
    "println(\"Time to solve this model using SCS: \")\n",
    "set_optimizer(m, SCS.Optimizer)\n",
    "@time(optimize!(m))\n",
    "\n",
    "println(\"Build \", value(ft), \" football trophies.\")\n",
    "println(\"Build \", value(st), \" soccer trophies.\")\n",
    "println(\"Total profit will be \\$\", objective_value(m))\n",
    "\n",
    "# some solvers (including SCS), output a lot of information along with the solution.\n",
    "# it can be helpful to explicitly print some desired solution components, as we've done here."
   ]
  },
  {
   "cell_type": "code",
   "execution_count": null,
   "metadata": {},
   "outputs": [],
   "source": []
  }
 ],
 "metadata": {
  "kernelspec": {
   "display_name": "Julia 1.3.1",
   "language": "julia",
   "name": "julia-1.3"
  },
  "language_info": {
   "file_extension": ".jl",
   "mimetype": "application/julia",
   "name": "julia",
   "version": "1.3.1"
  }
 },
 "nbformat": 4,
 "nbformat_minor": 4
}
