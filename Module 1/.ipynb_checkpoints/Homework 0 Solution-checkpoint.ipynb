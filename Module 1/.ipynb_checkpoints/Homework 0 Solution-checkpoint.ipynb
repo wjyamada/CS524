{
 "cells": [
  {
   "cell_type": "markdown",
   "metadata": {},
   "source": [
    "# Homework 0\n",
    "\n",
    "June 13, 2020\n",
    "\n",
    "This assignment will count for 0.5 points in the Homework category and 0.5 points in the Extra Credit category and will be graded on completeness alone"
   ]
  },
  {
   "cell_type": "markdown",
   "metadata": {},
   "source": [
    "## Problem 1 (0.5 points)\n",
    "\n",
    "Install Julia 1.3.1 and add the JuMP and Clp packages. Create an IJulia notebook titled **“Homework 0 Solution”** and run the following code in the notebook. Save your notebook *including the output* as a PDF and upload it to the Homework 0 dropbox on Canvas."
   ]
  },
  {
   "cell_type": "code",
   "execution_count": 1,
   "metadata": {},
   "outputs": [
    {
     "name": "stdout",
     "output_type": "stream",
     "text": [
      "Hello World!\n"
     ]
    }
   ],
   "source": [
    "using JuMP, Clp\n",
    "\n",
    "m = Model(Clp.Optimizer)\n",
    "\n",
    "println(\"Hello World!\")"
   ]
  },
  {
   "cell_type": "markdown",
   "metadata": {},
   "source": [
    "## Problem 2 (0.5 points)\n",
    "\n",
    "Complete the Student Interest Inventory survey on Canvas."
   ]
  },
  {
   "cell_type": "code",
   "execution_count": 2,
   "metadata": {},
   "outputs": [
    {
     "name": "stdout",
     "output_type": "stream",
     "text": [
      "Finished!"
     ]
    }
   ],
   "source": [
    "print(\"Finished!\")"
   ]
  }
 ],
 "metadata": {
  "kernelspec": {
   "display_name": "Julia 1.4.1",
   "language": "julia",
   "name": "julia-1.4"
  },
  "language_info": {
   "file_extension": ".jl",
   "mimetype": "application/julia",
   "name": "julia",
   "version": "1.4.1"
  }
 },
 "nbformat": 4,
 "nbformat_minor": 4
}
